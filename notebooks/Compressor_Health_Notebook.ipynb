{
 "cells": [
  {
   "cell_type": "markdown",
   "metadata": {
    "autoscroll": false
   },
   "source": [
    "<ul style=\"list-style-type:circle;font-size:14px;line-height:27px;\">\r\n",
    "    <li><b>from streamanalytix.python.dataset import Dataset:</b> Load Dataset class from streamanalytix API.</li>\r\n",
    "\t<li><b>Dataset(source_name):</b> Creates object of dataset class for given source.\r\n",
    "\t\t<ul>\r\n",
    "\t\t\t<li><b>Dataset.get_dataframe():</b> Read data source and return a pandas dataframe. </li>\r\n",
    "\t\t</ul>\r\n",
    "\t</li>\r\n",
    "\t<li><b>from streamanalytix.utilities import sax_utils:</b> Load sax_util script. It has following functions\r\n",
    "\t\t<ul>\r\n",
    "\t\t\t<li><b>sax_utils.save_and_download_model(model_name, model_object):</b>This method lets the user to save and download the trained model with StreamAnalytix. This model can than be used for training and/or scoring purpose as part of the StreamAnalytix pipeline</li>\r\n",
    "\t\t\t\t<ul>\r\n",
    "\t\t\t\t\t<li><b>model_name:</b> Name of the model. Accepted String value only. e.g. <i>\"DecisionTreeModel\"</i></li>\r\n",
    "\t\t\t\t\t<li><b>model_object:</b> Object of the trained model</li>\r\n",
    "\t\t\t\t</ul>\r\n",
    "\t\t\t<li><b>sax_utils.create_h2o_frame(source_name, cluster_name):</b>This method read data source and return H2O frame using notebook environment.</li>\r\n",
    "\t\t\t\t<ul>\r\n",
    "\t\t\t\t\t<li><b>source_name:</b> Name of the source. Accepted String value only. e.g. <i>\"MyDataSource\"</i></li>\r\n",
    "\t\t\t\t\t<li><b>cluster_name:</b> Name of the cluster. Accepted String value only. e.g. <i>\"TrainingCluster\"</i></li>\r\n",
    "\t\t\t\t</ul>\r\n",
    "\t\t\t<li><b>sax_utils.upload_and_register_h2o_model(model_object, model_name, model_type, project_name, project_version, workspace_name):</b>This method lets the user to upload and register h2o model in 'mojo' format in streamanalytix</li>\r\n",
    "\t\t\t\t<ul>\r\n",
    "\t\t\t\t\t<li><b>model_object:</b> Object of trained H2O model</li>\r\n",
    "\t\t\t\t\t<li><b>model_name:</b>Name of the model. Accepted String value only. e.g. <i>\"H2OTreeModel\"</i>\r\n",
    "\t\t\t\t\t<li><b>model_type:</b>Type of trained model. Accepted String value only. We support H2O model of types :<i>\"DistributedRandomForest\"</i>,<i>\"GeneralizedLinearModelling\"</i>,<i>\"IsolationForest\"</i>,<i>\"GradientBoostingMachine\"</i></li>\r\n",
    "\t\t\t\t\t<li><b>project_name:</b>Project Name in which model should register. Accepted String value only. e.g. <i>\"MyProject\"</i></li>\r\n",
    "\t\t\t\t\t<li><b>project_version:</b>Version of given project in which model should register</li>\r\n",
    "\t\t\t\t\t<li><b>workspace_name:</b>Workspace Name in which model should register. Accepted String value only. e.g. <i>\"MyWorkspace\"</i></li>\r\n",
    "\t\t\t\t</ul>\r\n",
    "\t\t</ul>\r\n",
    "\t</li>\r\n",
    "</ul>\r\n"
   ]
  },
  {
   "cell_type": "code",
   "execution_count": 1,
   "metadata": {
    "autoscroll": false,
    "collapsed": false,
    "execution": {
     "iopub.execute_input": "2020-12-16T10:39:21.612639Z",
     "iopub.status.busy": "2020-12-16T10:39:21.611693Z",
     "iopub.status.idle": "2020-12-16T10:39:22.548075Z",
     "shell.execute_reply": "2020-12-16T10:39:22.545085Z",
     "shell.execute_reply.started": "2020-12-16T10:39:21.612320Z"
    },
    "jupyter": {
     "outputs_hidden": false
    }
   },
   "outputs": [
    {
     "name": "stdout",
     "output_type": "stream",
     "text": [
      "Dataframe created\n",
      "Dataframe created\n"
     ]
    }
   ],
   "source": [
    "from streamanalytix.python.dataset import Dataset\n",
    "from streamanalytix.utilities import sax_utils\n",
    "\n",
    "\n",
    "dataset_1 = Dataset(\"compressor_healthy_data\")\n",
    "dataset_2 = Dataset(\"compressor_damage_data\")\n",
    "\n",
    "# you can use pandas to create dataframe as shown below\n",
    "# you can use pandas to create dataframe as shown below\n",
    "healthy_df = dataset_1.get_dataframe()\n",
    "damaged_df = dataset_2.get_dataframe()"
   ]
  },
  {
   "cell_type": "code",
   "execution_count": 2,
   "metadata": {
    "execution": {
     "iopub.execute_input": "2020-12-16T10:39:31.916709Z",
     "iopub.status.busy": "2020-12-16T10:39:31.915423Z",
     "iopub.status.idle": "2020-12-16T10:39:31.931164Z",
     "shell.execute_reply": "2020-12-16T10:39:31.927188Z",
     "shell.execute_reply.started": "2020-12-16T10:39:31.916191Z"
    }
   },
   "outputs": [],
   "source": [
    "# add label\n",
    "healthy_df['label'] = 'HEALTHY'\n",
    "damaged_df['label'] = 'DAMAGED'"
   ]
  },
  {
   "cell_type": "code",
   "execution_count": 3,
   "metadata": {
    "execution": {
     "iopub.execute_input": "2020-12-16T10:39:40.291533Z",
     "iopub.status.busy": "2020-12-16T10:39:40.290973Z",
     "iopub.status.idle": "2020-12-16T10:39:40.333193Z",
     "shell.execute_reply": "2020-12-16T10:39:40.329917Z",
     "shell.execute_reply.started": "2020-12-16T10:39:40.291449Z"
    }
   },
   "outputs": [
    {
     "name": "stdout",
     "output_type": "stream",
     "text": [
      "        AN2      AN3      AN4       AN5       AN6      AN7    label\n",
      "0   6.92610 -0.90846 -0.33036  0.366540  1.581900  0.65208  HEALTHY\n",
      "1   2.11830  2.86120  0.35087 -0.408250 -2.693900 -0.41473  HEALTHY\n",
      "2   0.26564  1.63200  0.64668  0.638510  0.018625  0.37443  HEALTHY\n",
      "3  10.76700  1.60540 -0.93881 -0.042284 -0.729160 -1.02010  HEALTHY\n",
      "4   3.19520  7.72530 -2.25360 -0.696960 -3.156400 -0.61025  HEALTHY\n",
      "       AN2     AN3      AN4     AN5      AN6     AN7    label\n",
      "0  -2.3892 -1.0360 -1.38470 -2.9812 -0.23971 -2.3579  DAMAGED\n",
      "1  13.2220  6.0517  1.83150  1.1092  3.44000  0.3012  DAMAGED\n",
      "2   4.7969  4.1318 -0.69563  0.1667 -3.11800  1.8308  DAMAGED\n",
      "3  -1.5859  1.8773  1.78470 -4.6230  1.21870  3.2342  DAMAGED\n",
      "4  -2.0814  1.9095 -1.79360  5.7990 -1.49020  1.6979  DAMAGED\n"
     ]
    }
   ],
   "source": [
    "# print datasets\n",
    "print(healthy_df.head())\n",
    "print(damaged_df.head())"
   ]
  },
  {
   "cell_type": "code",
   "execution_count": 4,
   "metadata": {
    "execution": {
     "iopub.execute_input": "2020-12-16T10:39:50.199669Z",
     "iopub.status.busy": "2020-12-16T10:39:50.198707Z",
     "iopub.status.idle": "2020-12-16T10:39:50.224384Z",
     "shell.execute_reply": "2020-12-16T10:39:50.220355Z",
     "shell.execute_reply.started": "2020-12-16T10:39:50.199503Z"
    }
   },
   "outputs": [],
   "source": [
    "# filter datasets\n",
    "healthy_df_filter = healthy_df[(-10 <= healthy_df.AN3) & (healthy_df.AN3 <= 10)]\n",
    "damaged_df_filter = damaged_df[(-10 <= damaged_df.AN2) & (damaged_df.AN2 <= 10)]"
   ]
  },
  {
   "cell_type": "code",
   "execution_count": 5,
   "metadata": {
    "execution": {
     "iopub.execute_input": "2020-12-16T10:39:58.013455Z",
     "iopub.status.busy": "2020-12-16T10:39:58.012470Z",
     "iopub.status.idle": "2020-12-16T10:39:59.182121Z",
     "shell.execute_reply": "2020-12-16T10:39:59.177933Z",
     "shell.execute_reply.started": "2020-12-16T10:39:58.013300Z"
    }
   },
   "outputs": [],
   "source": [
    "import pandas as pd\n",
    "from sklearn.pipeline import Pipeline\n",
    "from sklearn.externals import joblib\n",
    "from sklearn.preprocessing import StandardScaler\n",
    "from sklearn.model_selection import train_test_split\n",
    "from sklearn.ensemble import RandomForestClassifier"
   ]
  },
  {
   "cell_type": "code",
   "execution_count": 6,
   "metadata": {
    "execution": {
     "iopub.execute_input": "2020-12-16T10:40:10.780066Z",
     "iopub.status.busy": "2020-12-16T10:40:10.779319Z",
     "iopub.status.idle": "2020-12-16T10:40:10.791962Z",
     "shell.execute_reply": "2020-12-16T10:40:10.788732Z",
     "shell.execute_reply.started": "2020-12-16T10:40:10.779810Z"
    }
   },
   "outputs": [],
   "source": [
    "# join datasets\n",
    "final_df = pd.concat([healthy_df_filter, damaged_df_filter])"
   ]
  },
  {
   "cell_type": "code",
   "execution_count": 7,
   "metadata": {
    "execution": {
     "iopub.execute_input": "2020-12-16T10:40:19.077757Z",
     "iopub.status.busy": "2020-12-16T10:40:19.076565Z",
     "iopub.status.idle": "2020-12-16T10:40:19.103009Z",
     "shell.execute_reply": "2020-12-16T10:40:19.098719Z",
     "shell.execute_reply.started": "2020-12-16T10:40:19.077381Z"
    }
   },
   "outputs": [],
   "source": [
    "# train and test split\n",
    "_test_data_size= 0.2\n",
    "y = final_df['label']  # Labels\n",
    "X = final_df.drop(['label'], axis=1)\n",
    "X_train, X_test, y_train, y_test = train_test_split(X, y, test_size=_test_data_size)"
   ]
  },
  {
   "cell_type": "code",
   "execution_count": 8,
   "metadata": {
    "execution": {
     "iopub.execute_input": "2020-12-16T10:40:31.700909Z",
     "iopub.status.busy": "2020-12-16T10:40:31.699963Z",
     "iopub.status.idle": "2020-12-16T10:40:31.712565Z",
     "shell.execute_reply": "2020-12-16T10:40:31.709333Z",
     "shell.execute_reply.started": "2020-12-16T10:40:31.700585Z"
    }
   },
   "outputs": [],
   "source": [
    "# create pipeline model\n",
    "training_pipeline = Pipeline(steps=[('scaler', StandardScaler()), ('regressor', RandomForestClassifier())])"
   ]
  },
  {
   "cell_type": "code",
   "execution_count": 9,
   "metadata": {
    "execution": {
     "iopub.execute_input": "2020-12-16T10:40:40.176646Z",
     "iopub.status.busy": "2020-12-16T10:40:40.175718Z",
     "iopub.status.idle": "2020-12-16T10:40:40.338148Z",
     "shell.execute_reply": "2020-12-16T10:40:40.334867Z",
     "shell.execute_reply.started": "2020-12-16T10:40:40.176500Z"
    }
   },
   "outputs": [
    {
     "name": "stderr",
     "output_type": "stream",
     "text": [
      "/home/users/pshah/sax460_repo_venv/python/venv/demo/CompressorFailurePrediction_1607587825811/1/Compressor_Training_27_Env_1608113061768/lib64/python2.7/site-packages/sklearn/ensemble/forest.py:246: FutureWarning: The default value of n_estimators will change from 10 in version 0.20 to 100 in 0.22.\n",
      "  \"10 in version 0.20 to 100 in 0.22.\", FutureWarning)\n"
     ]
    },
    {
     "data": {
      "text/plain": [
       "Pipeline(memory=None,\n",
       "     steps=[('scaler', StandardScaler(copy=True, with_mean=True, with_std=True)), ('regressor', RandomForestClassifier(bootstrap=True, class_weight=None, criterion='gini',\n",
       "            max_depth=None, max_features='auto', max_leaf_nodes=None,\n",
       "            min_impurity_decrease=0.0, min_impurity_split=None,...obs=None,\n",
       "            oob_score=False, random_state=None, verbose=0,\n",
       "            warm_start=False))])"
      ]
     },
     "execution_count": 9,
     "metadata": {},
     "output_type": "execute_result"
    }
   ],
   "source": [
    "# fit model\n",
    "training_pipeline.fit(X_train, y_train)"
   ]
  },
  {
   "cell_type": "code",
   "execution_count": 10,
   "metadata": {
    "execution": {
     "iopub.execute_input": "2020-12-16T10:40:50.386055Z",
     "iopub.status.busy": "2020-12-16T10:40:50.385316Z",
     "iopub.status.idle": "2020-12-16T10:40:50.409925Z",
     "shell.execute_reply": "2020-12-16T10:40:50.406381Z",
     "shell.execute_reply.started": "2020-12-16T10:40:50.385941Z"
    }
   },
   "outputs": [
    {
     "name": "stdout",
     "output_type": "stream",
     "text": [
      "0.807909604519774\n"
     ]
    }
   ],
   "source": [
    "# score\n",
    "print(training_pipeline.score(X_test, y_test))"
   ]
  },
  {
   "cell_type": "code",
   "execution_count": null,
   "metadata": {},
   "outputs": [],
   "source": []
  }
 ],
 "metadata": {
  "autoplay": {
   "autoRun": true
  },
  "kernelspec": {
   "display_name": "Compressor_Training_27_Env_1608113061768",
   "language": "python",
   "name": "compressor_training_27_env_1608113061768"
  },
  "language_info": {
   "codemirror_mode": {
    "name": "ipython",
    "version": 2
   },
   "file_extension": ".py",
   "mimetype": "text/x-python",
   "name": "python",
   "nbconvert_exporter": "python",
   "pygments_lexer": "ipython2",
   "version": "2.7.5"
  }
 },
 "nbformat": 4,
 "nbformat_minor": 4
}
